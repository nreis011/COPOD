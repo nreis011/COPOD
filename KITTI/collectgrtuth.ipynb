{
 "cells": [
  {
   "cell_type": "code",
   "execution_count": 2,
   "metadata": {},
   "outputs": [
    {
     "name": "stdout",
     "output_type": "stream",
     "text": [
      "25552\n"
     ]
    }
   ],
   "source": [
    "import os\n",
    "import numpy as np\n",
    "\n",
    "gtruth_all = list()\n",
    "i = 0\n",
    "\n",
    "if(os.path.isdir(\"output/car/points/\")):\n",
    "    for file in os.listdir(\"output/car/points/\"):\n",
    "        i+=1\n",
    "        gtruth_all.append(np.load(\"output/car/points/\"+file).reshape(-1, 3))\n",
    "\n",
    "print(i)\n",
    "np.save(\"output/gtruth_all.npy\", np.concatenate(gtruth_all))"
   ]
  }
 ],
 "metadata": {
  "kernelspec": {
   "display_name": "base",
   "language": "python",
   "name": "python3"
  },
  "language_info": {
   "codemirror_mode": {
    "name": "ipython",
    "version": 3
   },
   "file_extension": ".py",
   "mimetype": "text/x-python",
   "name": "python",
   "nbconvert_exporter": "python",
   "pygments_lexer": "ipython3",
   "version": "3.9.13"
  },
  "orig_nbformat": 4
 },
 "nbformat": 4,
 "nbformat_minor": 2
}
