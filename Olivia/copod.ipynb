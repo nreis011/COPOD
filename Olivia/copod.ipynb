{
 "cells": [
  {
   "cell_type": "code",
   "execution_count": null,
   "metadata": {},
   "outputs": [],
   "source": [
    "import os\n",
    "import glob\n",
    "import numpy as np\n",
    "from pyod.models.copod import COPOD\n",
    "import matplotlib.pyplot as plt\n",
    "from mpl_toolkits.mplot3d import axes3d\n",
    "\n",
    "cars = np.load(\"outputs/gtruth_all.npy\")\n",
    "\n",
    "clf_name = 'COPOD'\n",
    "clf = COPOD(contamination=0.01, n_jobs=3)\n",
    "clf.fit(cars)\n",
    "\n",
    "i = 0"
   ]
  },
  {
   "cell_type": "code",
   "execution_count": null,
   "metadata": {},
   "outputs": [],
   "source": [
    "car_predict = list()\n",
    "\n",
    "if(i<=9281):\n",
    "    for j in range (i, i+100):\n",
    "        if(os.path.isdir(\"extract/out_pts/1/\")):\n",
    "            file = glob.glob(\"extract/out_pts/1/\"+str(j)+\"[.]*[_]*[.]*[.]npy\")[0]\n",
    "            pts = np.load(file).reshape(-1, 3)\n",
    "\n",
    "            predict = clf.predict(pts)\n",
    "            outliers = predict[np.where(predict==1)]\n",
    "            car_predict.append((outliers.size/predict.size)*100)\n",
    "    \n",
    "    if(i>100):\n",
    "        car_predict = np.append(np.load(\"output/car_predict.npy\"), np.asarray(car_predict))\n",
    "\n",
    "    i+=100\n",
    "    \n",
    "    np.save(\"outputs/car_predict.npy\", car_predict)\n",
    "\n",
    "    print(\"Batch #\" + str(i/100) + \" of 93 completed.\")\n",
    "    print(str(i))"
   ]
  }
 ],
 "metadata": {
  "language_info": {
   "name": "python"
  },
  "orig_nbformat": 4
 },
 "nbformat": 4,
 "nbformat_minor": 2
}
