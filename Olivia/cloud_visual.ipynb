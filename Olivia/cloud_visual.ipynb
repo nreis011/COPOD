{
 "cells": [
  {
   "cell_type": "markdown",
   "metadata": {},
   "source": [
    "# This notebook is dedicated to visualizing individual point clouds and bounding boxes."
   ]
  },
  {
   "cell_type": "code",
   "execution_count": 1,
   "metadata": {},
   "outputs": [
    {
     "name": "stdout",
     "output_type": "stream",
     "text": [
      "Jupyter environment detected. Enabling Open3D WebVisualizer.\n",
      "[Open3D INFO] WebRTC GUI backend enabled.\n",
      "[Open3D INFO] WebRTCWindowSystem: HTTP handshake server disabled.\n",
      "1661792364172818000\n",
      "20220829_184801\n",
      "\u001b[1;33m[Open3D WARNING] GLFW Error: GLX: Failed to create context: GLXBadFBConfig\u001b[0;m\n",
      "\u001b[1;33m[Open3D WARNING] Failed to create window\u001b[0;m\n",
      "\u001b[1;33m[Open3D WARNING] [DrawGeometries] Failed creating OpenGL window.\u001b[0;m\n"
     ]
    },
    {
     "name": "stderr",
     "output_type": "stream",
     "text": [
      "libGL error: MESA-LOADER: failed to open iris: /usr/lib/dri/iris_dri.so: cannot open shared object file: No such file or directory (search paths /usr/lib/x86_64-linux-gnu/dri:\\$${ORIGIN}/dri:/usr/lib/dri, suffix _dri)\n",
      "libGL error: failed to load driver: iris\n",
      "libGL error: MESA-LOADER: failed to open iris: /usr/lib/dri/iris_dri.so: cannot open shared object file: No such file or directory (search paths /usr/lib/x86_64-linux-gnu/dri:\\$${ORIGIN}/dri:/usr/lib/dri, suffix _dri)\n",
      "libGL error: failed to load driver: iris\n",
      "libGL error: MESA-LOADER: failed to open swrast: /usr/lib/dri/swrast_dri.so: cannot open shared object file: No such file or directory (search paths /usr/lib/x86_64-linux-gnu/dri:\\$${ORIGIN}/dri:/usr/lib/dri, suffix _dri)\n",
      "libGL error: failed to load driver: swrast\n"
     ]
    }
   ],
   "source": [
    "import open3d as o3d\n",
    "import numpy as np\n",
    "import glob\n",
    "\n",
    "# Load data\n",
    "idx = 5\n",
    "\n",
    "box = glob.glob(\"extract/out_corners/1/\"+str(1)+\"[.]*[_]*[.]*[.]npy\")[0]\n",
    "file = box.split(\"/\")[-1]\n",
    "folder = file.split(\".\")[1]\n",
    "file = file.split(\".\")[2]\n",
    "\n",
    "print(file)\n",
    "print(folder)\n",
    "\n",
    "pcd = o3d.io.read_point_cloud('/theia/Theia-SP4/olivia_202208/'+folder+'/pcd_files/LidarVeloRoofFC/split_000000/'+file+'.pcd')\n",
    "box = np.load(box)\n",
    "box = o3d.geometry.OrientedBoundingBox.create_from_points(o3d.utility.Vector3dVector(box))\n",
    "box.color = [1, 0, 0]\n",
    "\n",
    "o3d.visualization.draw_geometries([pcd, box],\n",
    "                                  zoom=1,\n",
    "                                  front=[-1, 0, 0],\n",
    "                                  lookat=[100, 0, 0 ],\n",
    "                                  up=[0, 0, 1])"
   ]
  }
 ],
 "metadata": {
  "kernelspec": {
   "display_name": "base",
   "language": "python",
   "name": "python3"
  },
  "language_info": {
   "codemirror_mode": {
    "name": "ipython",
    "version": 3
   },
   "file_extension": ".py",
   "mimetype": "text/x-python",
   "name": "python",
   "nbconvert_exporter": "python",
   "pygments_lexer": "ipython3",
   "version": "3.9.13"
  },
  "orig_nbformat": 4
 },
 "nbformat": 4,
 "nbformat_minor": 2
}
