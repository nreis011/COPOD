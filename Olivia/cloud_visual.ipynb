{
 "cells": [
  {
   "cell_type": "code",
   "execution_count": null,
   "metadata": {},
   "outputs": [],
   "source": [
    "import open3d as o3d\n",
    "import numpy as np\n",
    "import glob\n",
    "\n",
    "# Load data\n",
    "idx = 5\n",
    "\n",
    "box = glob.glob(\"extract/out_corners/1/\"+str(1)+\"[.]*[_]*[.]*[.]npy\")[0]\n",
    "file = box.split(\"/\")[-1]\n",
    "folder = file.split(\".\")[1]\n",
    "file = file.split(\".\")[2]\n",
    "\n",
    "print(file)\n",
    "print(folder)\n",
    "\n",
    "pcd = o3d.io.read_point_cloud('/theia/Theia-SP4/olivia_202208/'+folder+'/pcd_files/LidarVeloRoofFC/split_000000/'+file+'.pcd')\n",
    "box = np.load(box)\n",
    "box = o3d.geometry.OrientedBoundingBox.create_from_points(o3d.utility.Vector3dVector(box))\n",
    "box.color = [1, 0, 0]\n",
    "\n",
    "o3d.visualization.draw_geometries([pcd, box],\n",
    "                                  zoom=1,\n",
    "                                  front=[-1, 0, 0],\n",
    "                                  lookat=[100, 0, 0 ],\n",
    "                                  up=[0, 0, 1])"
   ]
  }
 ],
 "metadata": {
  "language_info": {
   "name": "python"
  },
  "orig_nbformat": 4
 },
 "nbformat": 4,
 "nbformat_minor": 2
}
