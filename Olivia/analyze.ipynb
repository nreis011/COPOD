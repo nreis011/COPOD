{
 "cells": [
  {
   "cell_type": "code",
   "execution_count": null,
   "metadata": {},
   "outputs": [],
   "source": [
    "import os\n",
    "import glob\n",
    "import torch\n",
    "import numpy as np\n",
    "from matplotlib import pyplot as plt\n",
    "from mpl_toolkits.mplot3d import axes3d\n",
    "from pytorch3d.ops import box3d_overlap\n"
   ]
  },
  {
   "cell_type": "code",
   "execution_count": null,
   "metadata": {},
   "outputs": [],
   "source": [
    "gtruth_boxes = list()\n",
    "inference_boxes = list()\n",
    "\n",
    "for j in range (0, 100):\n",
    "    gtruth_boxes.append(np.load(glob.glob(\"extract/gtruth_corners/1/\"+str(j)+\"[.]*[_]*[.]*[.]npy\")[0]))\n",
    "    inference_boxes.append(np.load(glob.glob(\"extract/out_corners/1/\"+str(j)+\"[.]*[_]*[.]*[.]npy\")[0]))\n",
    "\n",
    "gtruth_boxes = torch.tensor(np.array(gtruth_boxes), dtype=torch.float)\n",
    "inference_boxes = torch.tensor(np.array(inference_boxes), dtype=torch.float)\n",
    "\n",
    "intersection_vol, iou_3d = box3d_overlap(inference_boxes, gtruth_boxes)\n",
    "\n",
    "iou = list()\n",
    "\n",
    "for i in range(0, 100):\n",
    "    iou.append(torch.sum(intersection_vol[i]).item())\n",
    "\n",
    "iou = np.array(iou)"
   ]
  },
  {
   "cell_type": "code",
   "execution_count": null,
   "metadata": {},
   "outputs": [],
   "source": [
    "car_predict = np.load(\"outputs/car_predict.npy\")\n",
    "car_predict_iou = np.load(\"outputs/car_predict.npy\")\n",
    "\n",
    "np.where(iou==0)\n",
    "\n",
    "for i in np.where(iou==0):\n",
    "    car_predict_iou[i] = 100"
   ]
  },
  {
   "cell_type": "code",
   "execution_count": null,
   "metadata": {},
   "outputs": [],
   "source": [
    "X = np.arange(0, len(car_predict))\n",
    "\n",
    "plt.rcParams['figure.figsize'] = [20, 15]\n",
    "\n",
    "fig, ax = plt.subplots(2)\n",
    "ax[0].scatter(X, car_predict, edgecolor='black',color='red', label='OutP')\n",
    "ax[0].set_yticks(np.arange(0, 110, step=10))\n",
    "ax[0].tick_params(axis='x', labelsize=12)\n",
    "ax[0].tick_params(axis='y', labelsize=12)\n",
    "ax[0].legend()\n",
    "ax[0].grid()\n",
    "ax[0].set_ylabel('Outlier Percentages', fontsize=20)\n",
    "ax[0].set_xlabel('Car Point Clouds', fontsize=20)\n",
    "\n",
    "########################\n",
    "\n",
    "X = np.arange(0, len(car_predict_iou))\n",
    "ax[1].scatter(X, car_predict_iou, edgecolor='black',color='red', label='OutP')\n",
    "ax[1].set_yticks(np.arange(0, 110, step=20))\n",
    "ax[1].tick_params(axis='x', labelsize=12)\n",
    "ax[1].tick_params(axis='y', labelsize=12)\n",
    "ax[1].legend()\n",
    "ax[1].grid()\n",
    "ax[1].set_ylabel('Outlier Percentages', fontsize=20)\n",
    "ax[1].set_xlabel('Pedestrian Point Clouds', fontsize=20)\n",
    "plt.show()"
   ]
  },
  {
   "cell_type": "code",
   "execution_count": null,
   "metadata": {},
   "outputs": [],
   "source": [
    "fig, ax = plt.subplots(2, figsize=(20, 15))\n",
    "##1\n",
    "ax[0].boxplot(car_predict, vert=False, manage_ticks=True)\n",
    "ax[0].set_xlabel('Outlier Percentages', fontsize=20)\n",
    "ax[0].set_yticks([1])\n",
    "ax[0].set_ylabel('Car Point Clouds', fontsize=20)\n",
    "\n",
    "quantiles = np.percentile(car_predict, [0, 25, 50, 75, 100])\n",
    "ax[0].vlines(quantiles, [0] * quantiles.size, [1] * quantiles.size,\n",
    "          color='b', ls=':', lw=0.5, zorder=0)\n",
    "ax[0].set_ylim(0.5, 1.5)\n",
    "ax[0].set_xticks(quantiles)\n",
    "ax[0].tick_params(axis='x', labelsize=12)\n",
    "ax[0].tick_params(axis='y', labelsize=12)\n",
    "\n",
    "####################\n",
    "\n",
    "##2\n",
    "ax[1].boxplot(car_predict_iou, vert=False, manage_ticks=True)\n",
    "ax[1].set_xlabel('Outlier Percentages', fontsize=20)\n",
    "ax[1].set_yticks([1])\n",
    "ax[1].set_ylabel('Pedestrian Point Clouds', fontsize=20)\n",
    "\n",
    "quantiles = np.percentile(car_predict_iou, [0, 25, 50, 75, 100])\n",
    "ax[1].vlines(quantiles, [0] * quantiles.size, [1] * quantiles.size,\n",
    "          color='b', ls=':', lw=0.5, zorder=0)\n",
    "ax[1].set_ylim(0.5, 1.5)\n",
    "ax[1].set_xticks(quantiles)\n",
    "ax[1].tick_params(axis='x', labelsize=12)\n",
    "ax[1].tick_params(axis='y', labelsize=12)\n",
    "\n",
    "plt.show()"
   ]
  },
  {
   "cell_type": "code",
   "execution_count": null,
   "metadata": {},
   "outputs": [],
   "source": [
    "print(\"1:\")\n",
    "print(\"Sample Size:\" + str(len(car_predict)))\n",
    "print(\"Quartiles:\" + str(np.percentile(car_predict, [0, 25, 50, 75, 100])))\n",
    "print(\"Standard Deviation:\" + str(np.std(car_predict)))\n",
    "print(\"Variance:\" + str(np.var(car_predict)))\n",
    "\n",
    "print(\"2:\")\n",
    "print(\"Sample Size:\" + str(len(car_predict_iou)))\n",
    "print(\"Quartiles:\" + str(np.percentile(car_predict_iou, [0, 25, 50, 75, 100])))\n",
    "print(\"Standard Deviation:\" + str(np.std(car_predict_iou)))\n",
    "print(\"Variance:\" + str(np.var(car_predict_iou)))"
   ]
  }
 ],
 "metadata": {
  "language_info": {
   "name": "python"
  },
  "orig_nbformat": 4
 },
 "nbformat": 4,
 "nbformat_minor": 2
}
