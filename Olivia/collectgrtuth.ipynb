{
 "cells": [
  {
   "cell_type": "markdown",
   "metadata": {},
   "source": [
    "# This notebook collects all the ground truth "
   ]
  },
  {
   "cell_type": "code",
   "execution_count": 1,
   "metadata": {},
   "outputs": [
    {
     "name": "stdout",
     "output_type": "stream",
     "text": [
      "13835\n"
     ]
    }
   ],
   "source": [
    "# Imports\n",
    "import os\n",
    "import numpy as np\n",
    "import glob\n",
    "\n",
    "# Use this variable to select the index to collect\n",
    "index = 1\n",
    "\n",
    "gtruth_all = list()\n",
    "i = 0\n",
    "\n",
    "if(os.path.isdir('extract')):\n",
    "    for file in os.listdir('extract/gtruth_pts/'+str(index)):\n",
    "        i += 1\n",
    "        gtruth_all.append(np.load('extract/gtruth_pts/'+str(index)+'/'+file).reshape(-1, 3))\n",
    "\n",
    "# Prints the total amount of gtruth items of that given index that were collected.\n",
    "print(i)\n",
    "\n",
    "# Saves them into a singular file.\n",
    "np.save(\"outputs/gtruth_all_\"+str(index)+\".npy\", np.concatenate(gtruth_all))"
   ]
  }
 ],
 "metadata": {
  "kernelspec": {
   "display_name": "base",
   "language": "python",
   "name": "python3"
  },
  "language_info": {
   "codemirror_mode": {
    "name": "ipython",
    "version": 3
   },
   "file_extension": ".py",
   "mimetype": "text/x-python",
   "name": "python",
   "nbconvert_exporter": "python",
   "pygments_lexer": "ipython3",
   "version": "3.9.13"
  },
  "orig_nbformat": 4
 },
 "nbformat": 4,
 "nbformat_minor": 2
}
