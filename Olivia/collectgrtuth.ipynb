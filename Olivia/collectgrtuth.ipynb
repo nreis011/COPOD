{
 "cells": [
  {
   "cell_type": "code",
   "execution_count": 1,
   "metadata": {},
   "outputs": [
    {
     "name": "stdout",
     "output_type": "stream",
     "text": [
      "13835\n"
     ]
    }
   ],
   "source": [
    "import os\n",
    "import numpy as np\n",
    "import glob\n",
    "\n",
    "gtruth_all = list()\n",
    "i = 0\n",
    "\n",
    "if(os.path.isdir('extract')):\n",
    "    for file in os.listdir('extract/gtruth_pts/1'):\n",
    "        i += 1\n",
    "        gtruth_all.append(np.load('extract/gtruth_pts/1/'+file).reshape(-1, 3))\n",
    "\n",
    "print(i)\n",
    "np.save(\"outputs/gtruth_all.npy\", np.concatenate(gtruth_all))"
   ]
  },
  {
   "cell_type": "code",
   "execution_count": null,
   "metadata": {},
   "outputs": [],
   "source": [
    "import os\n",
    "import numpy as np\n",
    "import glob\n",
    "\n",
    "#12, 169, 2, 3, 4, 3253, 1984, 4000, 146, 2023\n",
    "\n",
    "gtruth_all = list()\n",
    "gtruth_all.append(np.load(glob.glob(\"extract/gtruth_pts/1/\"+str('12')+\"[.]*[_]*[.]*[.]npy\")[0]).reshape(-1, 3))\n",
    "gtruth_all.append(np.load(glob.glob(\"extract/gtruth_pts/1/\"+str('169')+\"[.]*[_]*[.]*[.]npy\")[0]).reshape(-1, 3))\n",
    "gtruth_all.append(np.load(glob.glob(\"extract/gtruth_pts/1/\"+str('2')+\"[.]*[_]*[.]*[.]npy\")[0]).reshape(-1, 3))\n",
    "gtruth_all.append(np.load(glob.glob(\"extract/gtruth_pts/1/\"+str('3')+\"[.]*[_]*[.]*[.]npy\")[0]).reshape(-1, 3))\n",
    "gtruth_all.append(np.load(glob.glob(\"extract/gtruth_pts/1/\"+str('4')+\"[.]*[_]*[.]*[.]npy\")[0]).reshape(-1, 3))\n",
    "gtruth_all.append(np.load(glob.glob(\"extract/gtruth_pts/1/\"+str('3253')+\"[.]*[_]*[.]*[.]npy\")[0]).reshape(-1, 3))\n",
    "gtruth_all.append(np.load(glob.glob(\"extract/gtruth_pts/1/\"+str('1984')+\"[.]*[_]*[.]*[.]npy\")[0]).reshape(-1, 3))\n",
    "gtruth_all.append(np.load(glob.glob(\"extract/gtruth_pts/1/\"+str('4000')+\"[.]*[_]*[.]*[.]npy\")[0]).reshape(-1, 3))\n",
    "gtruth_all.append(np.load(glob.glob(\"extract/gtruth_pts/1/\"+str('116')+\"[.]*[_]*[.]*[.]npy\")[0]).reshape(-1, 3))\n",
    "gtruth_all.append(np.load(glob.glob(\"extract/gtruth_pts/1/\"+str('2023')+\"[.]*[_]*[.]*[.]npy\")[0]).reshape(-1, 3))\n",
    "\n",
    "np.save(\"outputs/gturth_simulation.npy\", np.concatenate(gtruth_all))"
   ]
  }
 ],
 "metadata": {
  "kernelspec": {
   "display_name": "base",
   "language": "python",
   "name": "python3"
  },
  "language_info": {
   "codemirror_mode": {
    "name": "ipython",
    "version": 3
   },
   "file_extension": ".py",
   "mimetype": "text/x-python",
   "name": "python",
   "nbconvert_exporter": "python",
   "pygments_lexer": "ipython3",
   "version": "3.9.13"
  },
  "orig_nbformat": 4
 },
 "nbformat": 4,
 "nbformat_minor": 2
}
