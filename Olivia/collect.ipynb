{
 "cells": [
  {
   "cell_type": "code",
   "execution_count": null,
   "metadata": {},
   "outputs": [],
   "source": [
    "import os\n",
    "import numpy as np\n",
    "\n",
    "gtruth_all = list()\n",
    "i = 0\n",
    "\n",
    "if(os.path.isdir('extract')):\n",
    "    for file in os.listdir('extract/gtruth_pts/1'):\n",
    "        i += 1\n",
    "        gtruth_all.append(np.load('extract/gtruth_pts/1/'+file).reshape(-1, 3))\n",
    "\n",
    "print(i)\n",
    "np.save(\"outputs/gtruth_all.npy\", np.concatenate(gtruth_all))"
   ]
  }
 ],
 "metadata": {
  "language_info": {
   "name": "python"
  },
  "orig_nbformat": 4
 },
 "nbformat": 4,
 "nbformat_minor": 2
}
