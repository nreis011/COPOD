{
 "cells": [
  {
   "cell_type": "code",
   "execution_count": 8,
   "metadata": {},
   "outputs": [
    {
     "name": "stderr",
     "output_type": "stream",
     "text": [
      "/home/karri/anaconda3/lib/python3.9/site-packages/pyod/models/copod.py:171: UserWarning: n_features <= n_jobs; setting them equal instead.\n",
      "  warnings.warn(\"n_features <= n_jobs; setting them equal instead.\")\n",
      "[Parallel(n_jobs=3)]: Using backend LokyBackend with 3 concurrent workers.\n",
      "[Parallel(n_jobs=3)]: Done   3 out of   3 | elapsed:    0.0s finished\n",
      "[Parallel(n_jobs=3)]: Using backend LokyBackend with 3 concurrent workers.\n",
      "[Parallel(n_jobs=3)]: Done   3 out of   3 | elapsed:    0.0s finished\n"
     ]
    },
    {
     "data": {
      "text/plain": [
       "0.0"
      ]
     },
     "execution_count": 8,
     "metadata": {},
     "output_type": "execute_result"
    }
   ],
   "source": [
    "import os\n",
    "import glob\n",
    "import numpy as np\n",
    "from pyod.models.copod import COPOD\n",
    "import matplotlib.pyplot as plt\n",
    "from mpl_toolkits.mplot3d import axes3d\n",
    "\n",
    "cars = np.load(\"extract/gtruth_pts/1/1064.20220829_184801.1661792344072243000.npy\")\n",
    "\n",
    "clf_name = 'COPOD'\n",
    "clf = COPOD(contamination=0.01, n_jobs=3)\n",
    "clf.fit(cars)\n",
    "\n",
    "cars = []\n",
    "\n",
    "cars = np.load(\"extract/out_pts/1/769.20220829_184801.1661792344072243000.npy\").reshape(-1, 3)\n",
    "\n",
    "predict = clf.predict(cars)\n",
    "outliers = predict[np.where(predict==1)]\n",
    "car_predict = ((outliers.size/predict.size)*100)\n",
    "\n",
    "car_predict"
   ]
  }
 ],
 "metadata": {
  "kernelspec": {
   "display_name": "base",
   "language": "python",
   "name": "python3"
  },
  "language_info": {
   "codemirror_mode": {
    "name": "ipython",
    "version": 3
   },
   "file_extension": ".py",
   "mimetype": "text/x-python",
   "name": "python",
   "nbconvert_exporter": "python",
   "pygments_lexer": "ipython3",
   "version": "3.9.13"
  },
  "orig_nbformat": 4
 },
 "nbformat": 4,
 "nbformat_minor": 2
}
